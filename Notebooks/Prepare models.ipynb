{
 "cells": [
  {
   "cell_type": "code",
   "execution_count": 6,
   "id": "f0f63c4e",
   "metadata": {},
   "outputs": [],
   "source": [
    "import json\n",
    "import pickle\n",
    "import os\n",
    "from joblib import dump, load\n",
    "import numpy as np\n",
    "from tensorflow import keras"
   ]
  },
  {
   "cell_type": "code",
   "execution_count": 2,
   "id": "45229e09",
   "metadata": {},
   "outputs": [],
   "source": [
    "def CleanDict(dic):\n",
    "    clone = {}\n",
    "    for key in dic.keys():\n",
    "        if isinstance(dic[key], np.int64):\n",
    "            clone[key] = int(dic[key])\n",
    "        else:\n",
    "            clone[key] = dic[key]\n",
    "            \n",
    "    return clone"
   ]
  },
  {
   "cell_type": "code",
   "execution_count": 3,
   "id": "6dcf749f",
   "metadata": {},
   "outputs": [],
   "source": [
    "with open(\"../ModelSeries/CNNRuns\", \"rb\") as f:\n",
    "    data = pickle.load(f)"
   ]
  },
  {
   "cell_type": "code",
   "execution_count": 15,
   "id": "05004cf3",
   "metadata": {},
   "outputs": [
    {
     "name": "stdout",
     "output_type": "stream",
     "text": [
      "{'validation': {'true_neg': 1052, 'true_pos': 851, 'false_pos': 16, 'false_neg': 32, 'accuracy': 0.9753972321886212, 'precision': 0.9815455594002307, 'recall': 0.9637599093997735}, 'testing': {'true_neg': 1395, 'true_pos': 1321, 'false_pos': 89, 'false_neg': 116, 'accuracy': 0.9298185552892845, 'precision': 0.9368794326241134, 'recall': 0.919276270006959}, 'resonant': {'true_neg': 994, 'true_pos': 333, 'false_pos': 81, 'false_neg': 33, 'accuracy': 0.9208882720333103, 'precision': 0.8043478260869565, 'recall': 0.9098360655737705}, 'N': 100}\n",
      "{'validation': {'true_neg': 1066, 'true_pos': 847, 'false_pos': 2, 'false_neg': 36, 'accuracy': 0.9805228088159919, 'precision': 0.9976442873969376, 'recall': 0.9592298980747452}, 'testing': {'true_neg': 1477, 'true_pos': 1355, 'false_pos': 7, 'false_neg': 82, 'accuracy': 0.969530982540226, 'precision': 0.9948604992657856, 'recall': 0.942936673625609}, 'resonant': {'true_neg': 1070, 'true_pos': 342, 'false_pos': 5, 'false_neg': 24, 'accuracy': 0.9798750867453158, 'precision': 0.9855907780979827, 'recall': 0.9344262295081968}, 'N': 500}\n",
      "{'validation': {'true_neg': 1068, 'true_pos': 865, 'false_pos': 0, 'false_neg': 18, 'accuracy': 0.990773962070733, 'precision': 1.0, 'recall': 0.9796149490373726}, 'testing': {'true_neg': 1479, 'true_pos': 1393, 'false_pos': 5, 'false_neg': 44, 'accuracy': 0.983224922971585, 'precision': 0.9964234620886981, 'recall': 0.9693806541405706}, 'resonant': {'true_neg': 1074, 'true_pos': 350, 'false_pos': 1, 'false_neg': 16, 'accuracy': 0.9882026370575989, 'precision': 0.9971509971509972, 'recall': 0.9562841530054644}, 'N': 1000}\n",
      "{'validation': {'true_neg': 1065, 'true_pos': 879, 'false_pos': 3, 'false_neg': 4, 'accuracy': 0.9964120963608406, 'precision': 0.9965986394557823, 'recall': 0.9954699886749717}, 'testing': {'true_neg': 1471, 'true_pos': 1425, 'false_pos': 13, 'false_neg': 12, 'accuracy': 0.9914412872304006, 'precision': 0.9909596662030598, 'recall': 0.9916492693110647}, 'resonant': {'true_neg': 1073, 'true_pos': 362, 'false_pos': 2, 'false_neg': 4, 'accuracy': 0.9958362248438585, 'precision': 0.9945054945054945, 'recall': 0.9890710382513661}, 'N': 5000}\n",
      "{'validation': {'true_neg': 1067, 'true_pos': 881, 'false_pos': 1, 'false_neg': 2, 'accuracy': 0.9984623270117888, 'precision': 0.9988662131519275, 'recall': 0.9977349943374858}, 'testing': {'true_neg': 1469, 'true_pos': 1431, 'false_pos': 15, 'false_neg': 6, 'accuracy': 0.9928106812735364, 'precision': 0.9896265560165975, 'recall': 0.9958246346555324}, 'resonant': {'true_neg': 1075, 'true_pos': 363, 'false_pos': 0, 'false_neg': 3, 'accuracy': 0.9979181124219292, 'precision': 1.0, 'recall': 0.9918032786885246}, 'N': 10000}\n"
     ]
    }
   ],
   "source": [
    "for curr in data:\n",
    "    name = \"CNN\" + str(curr[\"N\"])\n",
    "    #model = keras.models.load_model(\"../ModelSeries/best_model\" + str(curr[\"N\"]) + \".h5\")#curr[\"model\"]\n",
    "    model_info = {}\n",
    "\n",
    "    print(curr)\n",
    "    \n",
    "    model_info[\"Tf\"] = float(curr[\"N\"])\n",
    "    model_info[\"Tprint\"] = 1.0\n",
    "    model_info[\"Tstep\"] = 1e-3\n",
    "    model_info[\"solver\"] = 1\n",
    "    #model_info[\"params\"] = CleanDict(curr[\"params\"])\n",
    "    model_info[\"validation\"] = CleanDict(curr[\"validation\"])\n",
    "    model_info[\"testing\"] = CleanDict(curr[\"testing\"])\n",
    "    model_info[\"resonant\"] = CleanDict(curr[\"resonant\"])\n",
    "    \n",
    "    #dump(model, name + \"_model\")\n",
    "    \n",
    "    with open(name + \"_info.json\", 'w') as outfile:\n",
    "        json.dump(model_info, outfile)"
   ]
  },
  {
   "cell_type": "code",
   "execution_count": 5,
   "id": "dd36a0c0",
   "metadata": {},
   "outputs": [
    {
     "ename": "NameError",
     "evalue": "name 'model' is not defined",
     "output_type": "error",
     "traceback": [
      "\u001b[0;31m---------------------------------------------------------------------------\u001b[0m",
      "\u001b[0;31mNameError\u001b[0m                                 Traceback (most recent call last)",
      "\u001b[0;32m<ipython-input-5-1f8a688cae5d>\u001b[0m in \u001b[0;36m<module>\u001b[0;34m\u001b[0m\n\u001b[0;32m----> 1\u001b[0;31m \u001b[0mmodel\u001b[0m\u001b[0;34m\u001b[0m\u001b[0m\n\u001b[0m",
      "\u001b[0;31mNameError\u001b[0m: name 'model' is not defined"
     ]
    }
   ],
   "source": [
    "model"
   ]
  },
  {
   "cell_type": "code",
   "execution_count": null,
   "id": "a48566b7",
   "metadata": {},
   "outputs": [],
   "source": []
  }
 ],
 "metadata": {
  "kernelspec": {
   "display_name": "tesi",
   "language": "python",
   "name": "tesi"
  },
  "language_info": {
   "codemirror_mode": {
    "name": "ipython",
    "version": 3
   },
   "file_extension": ".py",
   "mimetype": "text/x-python",
   "name": "python",
   "nbconvert_exporter": "python",
   "pygments_lexer": "ipython3",
   "version": "3.6.5"
  }
 },
 "nbformat": 4,
 "nbformat_minor": 5
}
