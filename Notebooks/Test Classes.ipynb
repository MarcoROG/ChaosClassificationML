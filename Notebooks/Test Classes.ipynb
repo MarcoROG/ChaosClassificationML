{
 "cells": [
  {
   "cell_type": "code",
   "execution_count": 14,
   "id": "7faf2548",
   "metadata": {},
   "outputs": [],
   "source": [
    "import os, sys\n",
    "os.chdir(\"../\")\n",
    "import random\n",
    "from abc import ABC, abstractmethod\n",
    "from joblib import dump, load\n",
    "import string\n",
    "import json\n",
    "from Utils import RunExperimentDict, PresentExperiment\n",
    "import multiprocessing\n",
    "from multiprocessing import Pool\n",
    "from functools import partial\n",
    "from Features import *\n",
    "import os\n",
    "from Model import *"
   ]
  },
  {
   "cell_type": "code",
   "execution_count": 2,
   "id": "65bcde0d",
   "metadata": {},
   "outputs": [],
   "source": [
    "# w0, w1, q0, E, q1, p1\n",
    "runs = []\n",
    "exps = []\n",
    "\n",
    "for x in np.linspace(-0.03, 0.03, 64):\n",
    "    run = {}\n",
    "    run[\"w0\"] = 1.0\n",
    "    run[\"w1\"] = 1.0\n",
    "    run[\"q0\"] = 0.0\n",
    "    run[\"E\"] = 0.125\n",
    "    run[\"q1\"] = x\n",
    "    run[\"p1\"] = 0.0\n",
    "    run[\"Tstep\"] = 1e-3\n",
    "    run[\"Tprint\"] = 1.0\n",
    "    run[\"Tf\"] = 1e4\n",
    "    run[\"solver\"] = 1\n",
    "    \n",
    "    exp = RunExperimentDict(run, NAME=str(x))\n",
    "    \n",
    "    runs.append(run)"
   ]
  },
  {
   "cell_type": "code",
   "execution_count": 3,
   "id": "bc26d9b3",
   "metadata": {},
   "outputs": [],
   "source": [
    "rf = RFModel(\"Notebooks/RF1000\")"
   ]
  },
  {
   "cell_type": "code",
   "execution_count": 4,
   "id": "f817c8ef",
   "metadata": {},
   "outputs": [],
   "source": [
    "cnn = CNNModel(\"Notebooks/CNN1000\")"
   ]
  },
  {
   "cell_type": "code",
   "execution_count": 5,
   "id": "75500bb3",
   "metadata": {},
   "outputs": [],
   "source": [
    "rf_preds = rf.PredictGrid(runs)"
   ]
  },
  {
   "cell_type": "code",
   "execution_count": 6,
   "id": "1c810c0a",
   "metadata": {},
   "outputs": [],
   "source": [
    "cnn_preds = cnn.PredictGrid(runs)"
   ]
  },
  {
   "cell_type": "code",
   "execution_count": 7,
   "id": "61013eb4",
   "metadata": {},
   "outputs": [
    {
     "data": {
      "text/plain": [
       "array([1.        , 1.        , 1.        , 1.        , 1.        ,\n",
       "       1.        , 0.89      , 1.        , 1.        , 1.        ,\n",
       "       1.        , 1.        , 0.995     , 1.        , 1.        ,\n",
       "       0.975     , 1.        , 0.96444444, 0.27134698, 0.95444444,\n",
       "       0.89      , 0.16902917, 0.57960317, 0.41434156, 0.4289413 ,\n",
       "       0.28550336, 0.17821387, 0.41971531, 0.12935778, 0.43685817,\n",
       "       0.11319683, 0.49860638, 0.07800961, 0.40721531, 0.08790946,\n",
       "       0.26435817, 0.41185817, 0.08833905, 0.33017489, 0.59471232,\n",
       "       0.31378983, 0.34746948, 0.27445383, 0.39946455, 0.09308653,\n",
       "       0.09430732, 0.090328  , 0.42434156, 0.42721531, 0.18084126,\n",
       "       0.41193972, 0.41185817, 0.11269112, 0.35971531, 0.05768599,\n",
       "       0.10769112, 0.905     , 0.1003513 , 0.06768599, 0.11727618,\n",
       "       0.42434156, 0.11727618, 0.05448129, 0.45193972])"
      ]
     },
     "execution_count": 7,
     "metadata": {},
     "output_type": "execute_result"
    }
   ],
   "source": [
    "rf_preds"
   ]
  },
  {
   "cell_type": "code",
   "execution_count": 8,
   "id": "3fd7756e",
   "metadata": {},
   "outputs": [
    {
     "data": {
      "text/plain": [
       "array([1.        , 0.9999931 , 1.        , 1.        , 1.        ,\n",
       "       0.99226475, 0.96952635, 0.99999356, 1.        , 0.9999933 ,\n",
       "       1.        , 1.        , 0.99994993, 0.9998598 , 0.99944913,\n",
       "       0.99988323, 1.        , 0.97622085, 0.14757258, 0.9934974 ,\n",
       "       0.8076246 , 0.30328813, 0.43119997, 0.04568195, 0.07364613,\n",
       "       0.06173021, 0.01461741, 0.0221884 , 0.01808327, 0.02657169,\n",
       "       0.10863337, 0.1251966 , 0.02106559, 0.01302835, 0.01529366,\n",
       "       0.01222363, 0.00932246, 0.00839457, 0.00844142, 0.35793778,\n",
       "       0.14217126, 0.2533626 , 0.00788224, 0.00711256, 0.0094234 ,\n",
       "       0.01130873, 0.0066517 , 0.01040214, 0.00624698, 0.00687578,\n",
       "       0.00662062, 0.00644493, 0.00757211, 0.00946176, 0.01475665,\n",
       "       0.03645936, 0.9478958 , 0.03776664, 0.01268935, 0.00828543,\n",
       "       0.00585562, 0.00511563, 0.00462091, 0.00394446], dtype=float32)"
      ]
     },
     "execution_count": 8,
     "metadata": {},
     "output_type": "execute_result"
    }
   ],
   "source": [
    "cnn_preds"
   ]
  },
  {
   "cell_type": "code",
   "execution_count": null,
   "id": "31fd9b6a",
   "metadata": {},
   "outputs": [],
   "source": []
  }
 ],
 "metadata": {
  "kernelspec": {
   "display_name": "tesi",
   "language": "python",
   "name": "tesi"
  },
  "language_info": {
   "codemirror_mode": {
    "name": "ipython",
    "version": 3
   },
   "file_extension": ".py",
   "mimetype": "text/x-python",
   "name": "python",
   "nbconvert_exporter": "python",
   "pygments_lexer": "ipython3",
   "version": "3.6.5"
  }
 },
 "nbformat": 4,
 "nbformat_minor": 5
}
